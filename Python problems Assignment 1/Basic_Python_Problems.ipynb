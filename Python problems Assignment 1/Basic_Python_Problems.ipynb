{
 "cells": [
  {
   "cell_type": "markdown",
   "id": "61d7ec24-90d9-4f22-aae1-75ff7043d75b",
   "metadata": {},
   "source": [
    "1. Write a python program to swap below string  . Input = Ravi Kumar Patel,  output = Kumar Ravi patel\n"
   ]
  },
  {
   "cell_type": "code",
   "execution_count": 17,
   "id": "821d21a2-5064-475e-b37d-57b6d42e86dc",
   "metadata": {},
   "outputs": [
    {
     "name": "stdout",
     "output_type": "stream",
     "text": [
      "Ravi Kumar patel\n",
      "Kumar Ravi patel\n"
     ]
    }
   ],
   "source": [
    "str1=\"Ravi\"\n",
    "str2=\"Kumar\"\n",
    "str3=\"patel\"\n",
    "print(str1,str2,str3)\n",
    "str1,str2=str2,str1\n",
    "print(str1,str2,str3)"
   ]
  },
  {
   "cell_type": "markdown",
   "id": "45a74b7b-d710-4c17-99b6-ed387a99a1f9",
   "metadata": {},
   "source": [
    "2. Write a python program to find maximum number from the list without using sorting  list = [87,43 ,76,1,99,23,8]\n"
   ]
  },
  {
   "cell_type": "code",
   "execution_count": 18,
   "id": "077746d3-ca1d-40c1-b241-a0af5a73ef61",
   "metadata": {},
   "outputs": [
    {
     "name": "stdout",
     "output_type": "stream",
     "text": [
      "99\n"
     ]
    }
   ],
   "source": [
    "list=[87,43,76,1,99,23,8]\n",
    "max=list[0]\n",
    "for val in list:\n",
    "  if val>max:\n",
    "    max=val\n",
    "print(max)\n"
   ]
  },
  {
   "cell_type": "markdown",
   "id": "9fb0950a-fc69-48e7-9b18-655810939c72",
   "metadata": {},
   "source": [
    "3. Write python to find the occurance of character in string s1= google output = g=2,o=2...\n"
   ]
  },
  {
   "cell_type": "code",
   "execution_count": 19,
   "id": "19b0bf42-b5f1-485a-bc75-99fc422c645a",
   "metadata": {},
   "outputs": [
    {
     "name": "stdout",
     "output_type": "stream",
     "text": [
      "g = 2\n",
      "o = 2\n",
      "l = 1\n",
      "e = 1\n"
     ]
    }
   ],
   "source": [
    "str1=\"google\"\n",
    "number={}\n",
    "for val in str1:\n",
    "  if val in number:\n",
    "    number[val]+=1\n",
    "  else :\n",
    "    number[val]=1\n",
    "for alphabet, count in number.items():\n",
    "  print(alphabet,\"=\", count)"
   ]
  },
  {
   "cell_type": "markdown",
   "id": "06dadb74-d5da-4bbe-abd4-b59870d50031",
   "metadata": {},
   "source": [
    "4. Use list comprehension to solve below problem . Find all number from 1-1000 are divided by 7 \n"
   ]
  },
  {
   "cell_type": "code",
   "execution_count": 20,
   "id": "2eb223ed-4962-4238-a974-85a4a85c63b7",
   "metadata": {},
   "outputs": [
    {
     "name": "stdout",
     "output_type": "stream",
     "text": [
      "[0, 7, 14, 21, 28, 35, 42, 49, 56, 63, 70, 77, 84, 91, 98, 105, 112, 119, 126, 133, 140, 147, 154, 161, 168, 175, 182, 189, 196, 203, 210, 217, 224, 231, 238, 245, 252, 259, 266, 273, 280, 287, 294, 301, 308, 315, 322, 329, 336, 343, 350, 357, 364, 371, 378, 385, 392, 399, 406, 413, 420, 427, 434, 441, 448, 455, 462, 469, 476, 483, 490, 497, 504, 511, 518, 525, 532, 539, 546, 553, 560, 567, 574, 581, 588, 595, 602, 609, 616, 623, 630, 637, 644, 651, 658, 665, 672, 679, 686, 693, 700, 707, 714, 721, 728, 735, 742, 749, 756, 763, 770, 777, 784, 791, 798, 805, 812, 819, 826, 833, 840, 847, 854, 861, 868, 875, 882, 889, 896, 903, 910, 917, 924, 931, 938, 945, 952, 959, 966, 973, 980, 987, 994]\n"
     ]
    }
   ],
   "source": [
    "val=[num for num in range(0,1000) if num%7==0]\n",
    "print(val)"
   ]
  },
  {
   "cell_type": "markdown",
   "id": "b75dfa98-be06-4e46-b2e6-658e1313e46c",
   "metadata": {},
   "source": [
    "5. Produce a list containing word even if number is even and odd if number is odd . Input = [75,8,94,2,23,29,100], output = [odd, even ,even ,...]"
   ]
  },
  {
   "cell_type": "code",
   "execution_count": 21,
   "id": "8b3be2ca-7ce6-4713-958a-553ec9f34814",
   "metadata": {},
   "outputs": [
    {
     "name": "stdout",
     "output_type": "stream",
     "text": [
      "['odd', 'even', 'even', 'even', 'odd', 'odd', 'even']\n"
     ]
    }
   ],
   "source": [
    "List=[75,8,94,2,23,29,100]\n",
    "eveorodd=[\"even\" if num%2==0 else \"odd\"  for num in List ]\n",
    "print(eveorodd)\n"
   ]
  },
  {
   "cell_type": "markdown",
   "id": "d6e54aaa-0c39-4f0e-9eaf-ab46fba6d6ee",
   "metadata": {},
   "source": [
    "6. Write a program to extract numbers from the string .input = 'hello 1 hi 9 . How are 10' output =[1,9,10]\n"
   ]
  },
  {
   "cell_type": "code",
   "execution_count": 22,
   "id": "819663af-ac51-4290-b128-1dc1aa3987cf",
   "metadata": {},
   "outputs": [
    {
     "name": "stdout",
     "output_type": "stream",
     "text": [
      "['1', '9', '10']\n"
     ]
    }
   ],
   "source": [
    "\n",
    "import re\n",
    "input=\"hello 1 hi 9 . How are 10\"\n",
    "digits=re.findall(r'\\d+',input)\n",
    "List=[num for num in digits]\n",
    "print(List)"
   ]
  },
  {
   "cell_type": "markdown",
   "id": "1abce006-2752-45da-a889-818d05c77a2e",
   "metadata": {},
   "source": [
    "7. Write a program to find give string of email is in correct format or not.\n",
    "Input=xyz@gmail.com output = correct"
   ]
  },
  {
   "cell_type": "code",
   "execution_count": 23,
   "id": "d96d5768-412d-4b84-b134-a72010885ffe",
   "metadata": {},
   "outputs": [
    {
     "name": "stdout",
     "output_type": "stream",
     "text": [
      "correct format\n"
     ]
    }
   ],
   "source": [
    "\n",
    "import re\n",
    "def is_valid(email):\n",
    "  e=r'^[a-zA-Z0-9._%+-]+@[a-zA-Z0-9.-]+\\.[a-zA-Z]{2,}$'\n",
    "  if re.match(e,email):\n",
    "    return True\n",
    "  else:\n",
    "    return False\n",
    "email=\"xyz@gmail.com\"\n",
    "if is_valid(email):\n",
    "  print(\"correct format\")\n",
    "else:\n",
    "  print(\"not correct\")"
   ]
  },
  {
   "cell_type": "markdown",
   "id": "8a6dc6ef-c1df-401a-9a29-f8b922e72f41",
   "metadata": {},
   "source": [
    "8. Write program to remove all white space in from the string"
   ]
  },
  {
   "cell_type": "code",
   "execution_count": 24,
   "id": "8927c65e-a0cc-4467-92e4-d8c2d16c320a",
   "metadata": {},
   "outputs": [
    {
     "name": "stdout",
     "output_type": "stream",
     "text": [
      "helloall.GoodMorning\n"
     ]
    }
   ],
   "source": [
    "string=\"hello all.Good Morning\"\n",
    "str2=string.replace(\" \",\"\")\n",
    "print(str2)"
   ]
  },
  {
   "cell_type": "markdown",
   "id": "e1a223a8-c1a4-4e5f-99b5-20363291cec6",
   "metadata": {},
   "source": [
    "9. Write a program to find sum of 1to50 numbers using list comprehension \n"
   ]
  },
  {
   "cell_type": "code",
   "execution_count": 25,
   "id": "8ac66c6d-1ecc-4371-9a38-4e8c2a4f71fa",
   "metadata": {},
   "outputs": [
    {
     "name": "stdout",
     "output_type": "stream",
     "text": [
      "1275\n"
     ]
    }
   ],
   "source": [
    "value=sum([num for num in range(1,51)])\n",
    "print(value)"
   ]
  },
  {
   "cell_type": "markdown",
   "id": "050e9173-5f98-4792-b8cb-e62b49c0e1d8",
   "metadata": {},
   "source": [
    "10. Write a program to check string is alpha numeric or not\n"
   ]
  },
  {
   "cell_type": "code",
   "execution_count": 26,
   "id": "946bbfb7-5382-4ebd-bb21-2436c0500252",
   "metadata": {},
   "outputs": [
    {
     "name": "stdout",
     "output_type": "stream",
     "text": [
      "yes,alpha numeric\n"
     ]
    }
   ],
   "source": [
    "string=\"hello\"\n",
    "if string.isalnum():\n",
    "  print(\"yes,alpha numeric\")\n",
    "else:\n",
    "  print(\"not alpha numeric\")"
   ]
  },
  {
   "cell_type": "code",
   "execution_count": null,
   "id": "1705ebc9-0d98-4ec8-be20-d414eda82057",
   "metadata": {},
   "outputs": [],
   "source": []
  }
 ],
 "metadata": {
  "kernelspec": {
   "display_name": "Python 3 (ipykernel)",
   "language": "python",
   "name": "python3"
  },
  "language_info": {
   "codemirror_mode": {
    "name": "ipython",
    "version": 3
   },
   "file_extension": ".py",
   "mimetype": "text/x-python",
   "name": "python",
   "nbconvert_exporter": "python",
   "pygments_lexer": "ipython3",
   "version": "3.11.7"
  }
 },
 "nbformat": 4,
 "nbformat_minor": 5
}

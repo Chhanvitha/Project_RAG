{
 "cells": [
  {
   "cell_type": "markdown",
   "id": "f49cee36-d9c7-44ef-9099-f0c9f1028481",
   "metadata": {},
   "source": [
    "1.Finding URLS in the given text"
   ]
  },
  {
   "cell_type": "code",
   "execution_count": 1,
   "id": "559e7642-a664-4a3a-8395-c249ed0414c5",
   "metadata": {},
   "outputs": [],
   "source": [
    "import spacy"
   ]
  },
  {
   "cell_type": "code",
   "execution_count": 2,
   "id": "e020c2b2-0d1b-4ea6-aafc-eb0c611857cc",
   "metadata": {},
   "outputs": [],
   "source": [
    "nlp = spacy.load(\"en_core_web_sm\")"
   ]
  },
  {
   "cell_type": "code",
   "execution_count": 3,
   "id": "4e2df373-22d9-4fe5-8d45-f0099b7c7754",
   "metadata": {},
   "outputs": [],
   "source": [
    "text='''\n",
    "Look for data to help you address the question. Governments are good\n",
    "sources because data from public research is often freely available. Good\n",
    "places to start include http://www.data.gov/, and http://www.science.\n",
    "gov/, and in the United Kingdom, http://data.gov.uk/.\n",
    "Two of my favorite data sets are the General Social Survey at http://www3.norc.org/gss+website/, \n",
    "and the European Social Survey at http://www.europeansocialsurvey.org/.\n",
    "'''"
   ]
  },
  {
   "cell_type": "code",
   "execution_count": 4,
   "id": "2de40f89-c3ea-4e34-8c45-778bcf65c6d2",
   "metadata": {},
   "outputs": [],
   "source": [
    "text=nlp(text)"
   ]
  },
  {
   "cell_type": "code",
   "execution_count": 5,
   "id": "558eb691-d6d0-4283-9186-297b8006103b",
   "metadata": {},
   "outputs": [],
   "source": [
    "List=[]\n",
    "for token in text:\n",
    "    if token.like_url:\n",
    "        List.append(token.text)"
   ]
  },
  {
   "cell_type": "code",
   "execution_count": 6,
   "id": "96a64198-542d-4757-93d1-9be2555c54be",
   "metadata": {},
   "outputs": [
    {
     "data": {
      "text/plain": [
       "['http://www.data.gov/',\n",
       " 'http://www.science',\n",
       " 'http://data.gov.uk/.',\n",
       " 'http://www3.norc.org/gss+website/',\n",
       " 'http://www.europeansocialsurvey.org/.']"
      ]
     },
     "execution_count": 6,
     "metadata": {},
     "output_type": "execute_result"
    }
   ],
   "source": [
    "List"
   ]
  },
  {
   "cell_type": "markdown",
   "id": "54a84397-f4c8-4b39-b9f7-f9b57eab3137",
   "metadata": {},
   "source": [
    "2. Stemming and lemmetizing text"
   ]
  },
  {
   "cell_type": "code",
   "execution_count": 7,
   "id": "4ebdcf57-f891-49b4-a8e8-83f59014845d",
   "metadata": {},
   "outputs": [],
   "source": [
    "text2=\"I have three visions for India, In 3000 years of our history, people from all over the world have come and invadealus, captured our Lands, conquered our ainds From Alexander onwards, the Greeks, the Turks, the Hoguls, the Portuguese, the British, The French, the Dutch, all of them cane and looted us, took over what was ours. Vet we have not done this to any other nation, we have not conquered anyone We have not grabbed their land, their culture, their history and tried to enforce our way of life on them. Why? Because we respect the freedom of others. That is why ny first vision is that of freedom. I believe that India got its first vision of this in 1857, when we started the kar of Independence. It is this freedom that we must protect and nurture and build on. If we are not free, no one will respect us. My second vision for India's development. For fifty fi years we have been a developing nation. It is time we see ourselves as a developed nation. We are among the top 5 nations of the world In terms of GDP. We have a 18 percent growth rate in most areas. Our poverty levels are falling. Our achievements are being globally recognised today. Vet ve lack the self-confidence to a developed nation, self-reliant and and self-assured. Isn't this Incorrect? I have a third vision. India must stand up to the world. Because I believe that unless India stands up to the world, no one will respect us. Only strength respects strength, we must be strong not only as a military power but also as an economic power, Buth must go hand-in-hand. My good fortune was to have worked with three great minds. Dr. Vikram Sarabhal of the Dept. of space, Professor Satish Dhawan, who succeeded him and Dr. Brahm Prakash, father of nuclear material. I was lucky to have worked with all three of then closely and consider this the great opportunity of my life. I see four allestones in my career\""
   ]
  },
  {
   "cell_type": "code",
   "execution_count": 25,
   "id": "b7f01398-6f23-48b8-82ae-cb55e3092572",
   "metadata": {},
   "outputs": [
    {
     "name": "stdout",
     "output_type": "stream",
     "text": [
      "I have three visions for India In 3000 years of our history people from all over the world have come and invadealus captured our Lands conquered our ainds From Alexander onwards the Greeks the Turks the Hoguls the Portuguese the British The French the Dutch all of them cane and looted us took over what was ours Vet we have not done this to any other nation we have not conquered anyone We have not grabbed their land their culture their history and tried to enforce our way of life on them Why Because we respect the freedom of others That is why ny first vision is that of freedom I believe that India got its first vision of this in 1857 when we started the kar of Independence It is this freedom that we must protect and nurture and build on If we are not free no one will respect us My second vision for India 's development For fifty fi years we have been a developing nation It is time we see ourselves as a developed nation We are among the top 5 nations of the world In terms of GDP We have a 18 percent growth rate in most areas Our poverty levels are falling Our achievements are being globally recognised today Vet ve lack the self confidence to a developed nation self reliant and and self assured Is n't this Incorrect I have a third vision India must stand up to the world Because I believe that unless India stands up to the world no one will respect us Only strength respects strength we must be strong not only as a military power but also as an economic power Buth must go hand in hand My good fortune was to have worked with three great minds Dr. Vikram Sarabhal of the Dept of space Professor Satish Dhawan who succeeded him and Dr. Brahm Prakash father of nuclear material I was lucky to have worked with all three of then closely and consider this the great opportunity of my life I see four allestones in my career\n"
     ]
    }
   ],
   "source": [
    "nlp = spacy.load(\"en_core_web_sm\")\n",
    "doc = nlp(text2)\n",
    "data = ' '.join(token.text for token in doc if not token.is_punct)\n",
    "print(data) \n",
    "data=nlp(data)"
   ]
  },
  {
   "cell_type": "code",
   "execution_count": 26,
   "id": "66d79296-4927-49ed-b2dd-dd772ddc9114",
   "metadata": {},
   "outputs": [],
   "source": [
    "List=[token.text for token in data if not token.is_stop]"
   ]
  },
  {
   "cell_type": "code",
   "execution_count": 27,
   "id": "4c4289c5-c102-457c-89ac-3efcb2a642ea",
   "metadata": {},
   "outputs": [],
   "source": [
    "data=' '.join(List)"
   ]
  },
  {
   "cell_type": "code",
   "execution_count": 29,
   "id": "f4bda2a1-6a36-497c-a957-3424268a94af",
   "metadata": {},
   "outputs": [
    {
     "data": {
      "text/plain": [
       "'visions India 3000 years history people world come invadealus captured Lands conquered ainds Alexander onwards Greeks Turks Hoguls Portuguese British French Dutch cane looted took Vet nation conquered grabbed land culture history tried enforce way life respect freedom ny vision freedom believe India got vision 1857 started kar Independence freedom protect nurture build free respect second vision India development fi years developing nation time developed nation 5 nations world terms GDP 18 percent growth rate areas poverty levels falling achievements globally recognised today Vet ve lack self confidence developed nation self reliant self assured Incorrect vision India stand world believe India stands world respect strength respects strength strong military power economic power Buth hand hand good fortune worked great minds Dr. Vikram Sarabhal Dept space Professor Satish Dhawan succeeded Dr. Brahm Prakash father nuclear material lucky worked closely consider great opportunity life allestones career'"
      ]
     },
     "execution_count": 29,
     "metadata": {},
     "output_type": "execute_result"
    }
   ],
   "source": [
    "data"
   ]
  },
  {
   "cell_type": "markdown",
   "id": "00185a62-3249-4a07-9872-2374b32be99b",
   "metadata": {},
   "source": [
    "Using Bag Of Words (BOW)"
   ]
  },
  {
   "cell_type": "code",
   "execution_count": 37,
   "id": "06074d46-5421-4391-87e1-2a11d755f209",
   "metadata": {},
   "outputs": [],
   "source": [
    "def get_bag_of_words(docs, vocab):\n",
    "   word_count = dict.fromkeys(vocab, 0)\n",
    "   bag = [0] * len(vocab)\n",
    "   for word in docs:\n",
    "       word_count[word] += 1\n",
    "   for i, word in enumerate(vocab):\n",
    "       bag[i] = word_count[word]\n",
    "   return bag"
   ]
  },
  {
   "cell_type": "code",
   "execution_count": 40,
   "id": "41a95679-cd4b-4ca8-832a-5af44240b5af",
   "metadata": {},
   "outputs": [],
   "source": [
    "import re\n",
    "\n",
    "vocab = ['an', 'apple', 'a', 'day', 'keeps', 'the', 'doctor', 'away', 'be',\n",
    "        'do', 'good', 'friend', 'in', 'need', 'is', 'deed' ]\n",
    "\n",
    "text = (\"An apple a day keeps the doctor away.\"\n",
    "      \"Be good , do good.\"\n",
    "      \"A friend in need is a friend in deed\"\n",
    "      )\n",
    "\n",
    "text = text.lower()\n",
    "text = re.split(\"\\W\", text)\n",
    "text = [s for s in doc if len(s) > 0]\n",
    "bag_of_words = get_bag_of_words(text, vocab)\n"
   ]
  },
  {
   "cell_type": "code",
   "execution_count": 41,
   "id": "41153877-797f-4aba-8283-622c88c0b0ee",
   "metadata": {},
   "outputs": [
    {
     "data": {
      "text/plain": [
       "[1, 1, 3, 1, 1, 1, 1, 1, 1, 1, 2, 2, 2, 1, 1, 1]"
      ]
     },
     "execution_count": 41,
     "metadata": {},
     "output_type": "execute_result"
    }
   ],
   "source": [
    "bag_of_words"
   ]
  },
  {
   "cell_type": "markdown",
   "id": "924e3442-1bdc-4b06-a2b6-1e2662247eeb",
   "metadata": {},
   "source": [
    "Using TF-IDF(Term Frequency Inverse Document Frequency)"
   ]
  },
  {
   "cell_type": "code",
   "execution_count": 83,
   "id": "830754f2-8f2d-49dd-be86-246bca10cf32",
   "metadata": {},
   "outputs": [],
   "source": [
    "from sklearn.feature_extraction.text import TfidfVectorizer\n",
    "text= \"An apple a day keeps the doctor away\"\n"
   ]
  },
  {
   "cell_type": "code",
   "execution_count": 84,
   "id": "58c04800-a0a9-44a8-9833-7ea0ed9ae9bd",
   "metadata": {},
   "outputs": [],
   "source": [
    "vectorize= TfidfVectorizer()\n",
    "response= vectorize.fit_transform([text])\n"
   ]
  },
  {
   "cell_type": "code",
   "execution_count": 85,
   "id": "762b9bbb-9696-4895-b2bb-22c8b3e73a11",
   "metadata": {},
   "outputs": [
    {
     "name": "stdout",
     "output_type": "stream",
     "text": [
      "  (0, 2)\t0.3779644730092272\n",
      "  (0, 4)\t0.3779644730092272\n",
      "  (0, 6)\t0.3779644730092272\n",
      "  (0, 5)\t0.3779644730092272\n",
      "  (0, 3)\t0.3779644730092272\n",
      "  (0, 1)\t0.3779644730092272\n",
      "  (0, 0)\t0.3779644730092272\n"
     ]
    }
   ],
   "source": [
    "print(response)"
   ]
  },
  {
   "cell_type": "code",
   "execution_count": null,
   "id": "0e997fe7-e377-4b47-8a60-9357f0ea97b6",
   "metadata": {},
   "outputs": [],
   "source": []
  }
 ],
 "metadata": {
  "kernelspec": {
   "display_name": "Python 3 (ipykernel)",
   "language": "python",
   "name": "python3"
  },
  "language_info": {
   "codemirror_mode": {
    "name": "ipython",
    "version": 3
   },
   "file_extension": ".py",
   "mimetype": "text/x-python",
   "name": "python",
   "nbconvert_exporter": "python",
   "pygments_lexer": "ipython3",
   "version": "3.11.7"
  }
 },
 "nbformat": 4,
 "nbformat_minor": 5
}

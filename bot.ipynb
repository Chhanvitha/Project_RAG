{
 "cells": [
  {
   "cell_type": "code",
   "execution_count": 5,
   "metadata": {},
   "outputs": [],
   "source": [
    "import os\n",
    "import requests\n",
    "import tempfile\n",
    "from langchain import  PromptTemplate\n",
    "from pinecone import Pinecone\n",
    "from langchain.chains import RetrievalQA\n",
    "from langchain_community.vectorstores import Pinecone as PineconeVectorStore\n",
    "from langchain_community.document_loaders import PyPDFDirectoryLoader\n",
    "from langchain.text_splitter import RecursiveCharacterTextSplitter\n",
    "from langchain.embeddings import HuggingFaceEmbeddings\n",
    "from langchain_huggingface import HuggingFaceEmbeddings  \n",
    "from langchain_community.llms import Ollama\n",
    "from langchain.vectorstores import Pinecone\n",
    "from langchain.chains import create_retrieval_chain\n",
    "from langchain.chains.combine_documents import create_stuff_documents_chain\n",
    "from langchain_core.prompts import ChatPromptTemplate\n",
    "from langchain.chains.question_answering import load_qa_chain\n",
    "from langchain_google_genai import ChatGoogleGenerativeAI\n",
    "from langchain_ollama.llms import OllamaLLM\n",
    "from langchain_groq import ChatGroq\n",
    "import dotenv"
   ]
  },
  {
   "cell_type": "code",
   "execution_count": 6,
   "metadata": {},
   "outputs": [],
   "source": [
    "ROOT_DIR=os.path.abspath('..')"
   ]
  },
  {
   "cell_type": "code",
   "execution_count": 11,
   "metadata": {},
   "outputs": [],
   "source": [
    "PINECONE_INDEX_NAME = \"main-project\"\n",
    "PINECONE_API_KEY = os.getenv(\"PINECONE_API_KEY\")\n"
   ]
  },
  {
   "cell_type": "code",
   "execution_count": 12,
   "metadata": {},
   "outputs": [
    {
     "name": "stdout",
     "output_type": "stream",
     "text": [
      "c:\\Users\\chhan\\OneDrive\\Desktop\\BOT\n"
     ]
    },
    {
     "data": {
      "text/plain": [
       "759"
      ]
     },
     "execution_count": 12,
     "metadata": {},
     "output_type": "execute_result"
    }
   ],
   "source": [
    "def load_data(data_path):\n",
    "    print(data_path)\n",
    "    loader=PyPDFDirectoryLoader(data_path)\n",
    "    data =loader.load()\n",
    "    return data\n",
    "\n",
    "docs = load_data(ROOT_DIR)\n",
    "len(docs)"
   ]
  },
  {
   "cell_type": "code",
   "execution_count": 13,
   "metadata": {},
   "outputs": [
    {
     "name": "stdout",
     "output_type": "stream",
     "text": [
      "10289\n"
     ]
    }
   ],
   "source": [
    "def text_split(data):\n",
    "    splitter = RecursiveCharacterTextSplitter(chunk_size= 500, chunk_overlap=200)\n",
    "    text_chunks = splitter.split_documents(data)\n",
    "    return text_chunks\n",
    "\n",
    "text_chunks =text_split(docs)\n",
    "print(len(text_chunks))"
   ]
  },
  {
   "cell_type": "code",
   "execution_count": 14,
   "metadata": {},
   "outputs": [
    {
     "name": "stdout",
     "output_type": "stream",
     "text": [
      "index successfully loaded\n"
     ]
    }
   ],
   "source": [
    "embeddings = HuggingFaceEmbeddings(model_name=\"sentence-transformers/all-MiniLM-L6-v2\")\n",
    "os.environ['PINECONE_API_KEY']=\"pcsk_2v4NVt_PCxDtbj9z3ABZymMMvbQ7mUbsut1adBZVLvVRZdAAAoHhLrfsNGMWosfDMGAg5\"\n",
    "docsearch = Pinecone.from_existing_index(index_name=PINECONE_INDEX_NAME,embedding=embeddings)\n",
    "print(\"index successfully loaded\")"
   ]
  },
  {
   "cell_type": "code",
   "execution_count": 15,
   "metadata": {},
   "outputs": [
    {
     "data": {
      "text/plain": [
       "384"
      ]
     },
     "execution_count": 15,
     "metadata": {},
     "output_type": "execute_result"
    }
   ],
   "source": [
    "vector= embeddings.embed_query(\"what is vitamins?\")\n",
    "len(vector)"
   ]
  },
  {
   "cell_type": "code",
   "execution_count": 16,
   "metadata": {},
   "outputs": [],
   "source": [
    "vectorstore_from_docs = PineconeVectorStore.from_documents(\n",
    "    text_chunks,\n",
    "    index_name=PINECONE_INDEX_NAME,\n",
    "    embedding= embeddings\n",
    ")"
   ]
  },
  {
   "cell_type": "code",
   "execution_count": 17,
   "metadata": {},
   "outputs": [],
   "source": [
    "docsearch= PineconeVectorStore.from_existing_index(PINECONE_INDEX_NAME,embeddings)"
   ]
  },
  {
   "cell_type": "code",
   "execution_count": 18,
   "metadata": {},
   "outputs": [
    {
     "name": "stdout",
     "output_type": "stream",
     "text": [
      "[Document(metadata={'page': 444.0, 'source': 'c:\\\\Users\\\\chhan\\\\OneDrive\\\\Desktop\\\\BOT\\\\Code\\\\medical_book.pdf'}, page_content='Diabetic neuropathy\\nDefinition\\nDiabetic neuropathy is a nerve disorder caused by\\ndiabetes mellitus . Diabetic neuropathy may be diffuse,\\naffecting several parts of the body, or focal, affecting a\\nspecific nerve and part of the body.\\nDescription\\nThe nervous system consists of two major divisions:\\nthe central nervous systems (CNS) which includes the\\nbrain, the cranial nerves, and the spinal cord, and the\\nperipheral nervous system (PNS) which includes the'), Document(metadata={'page': 435.0, 'source': 'c:\\\\Users\\\\chhan\\\\OneDrive\\\\Desktop\\\\BOT\\\\Code\\\\medical_book.pdf'}, page_content='glucose in the blood cannot be absorbed into the cells of\\nthe body. Symptoms include frequent urination, lethargy,\\nexcessive thirst, and hunger. The treatment includes\\nchanges in diet, oral medications, and in some cases,\\ndaily injections of insulin.\\nDescription\\nDiabetes mellitus is a chronic disease that causes\\nserious health complications including renal (kidney)\\nfailure, heart disease,stroke, and blindness. Approxi-\\nmately 14 million Americans (about 5% of the popula-'), Document(metadata={'page': 440.0, 'source': 'c:\\\\Users\\\\chhan\\\\OneDrive\\\\Desktop\\\\BOT\\\\Code\\\\medical_book.pdf'}, page_content='Jay H. Stein, et al. St. Louis: Mosby, 1998.\\nKaram, John H. “Diabetes Mellitus & Hypoglycemia.” In Cur-\\nrent Medical Diagnosis and Treatment, 1998.37th ed. Ed.\\nStephen McPhee, et al. Stamford: Appleton & Lange,\\n1997.\\nSherwin, Robert S. “Diabetes Mellitus.” In Cecil Textbook of\\nMedicine, ed. J. Claude Bennett and Fred Plum. Philadel-\\nphia: W. B. Saunders Co., 1996.\\nSmit, Charles Kent, John P. Sheehan, and Margaret M. Ulchak-\\ner. “Diabetes Mellitus.” In Family Medicine, Principles')]\n"
     ]
    }
   ],
   "source": [
    "query= \"What is diabetics?\"\n",
    "docs = docsearch.similarity_search(query, k=3)\n",
    "print(docs)"
   ]
  },
  {
   "cell_type": "code",
   "execution_count": 19,
   "metadata": {},
   "outputs": [],
   "source": [
    "retriever= docsearch.as_retriever(search_type=\"similarity\", search_kwargs={\"k\":10})\n"
   ]
  },
  {
   "cell_type": "code",
   "execution_count": 20,
   "metadata": {},
   "outputs": [],
   "source": [
    "llm = ChatGroq(\n",
    "    temperature=0, \n",
    "    groq_api_key=\"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\",\n",
    "      model_name=\"llama3-8b-8192\"\n",
    "      )"
   ]
  },
  {
   "cell_type": "code",
   "execution_count": 21,
   "metadata": {},
   "outputs": [],
   "source": [
    "llm= OllamaLLM(model=\"llama2\")\n"
   ]
  },
  {
   "cell_type": "code",
   "execution_count": 22,
   "metadata": {},
   "outputs": [],
   "source": [
    "from langchain_core.prompts import ChatPromptTemplate\n",
    "system_prompt= (\n",
    "    \"You are an assistant for question-answer task.\"\n",
    "    \"Use the given information to answer the questions.\"\n",
    "    \"If you don't know the answer , say you don't know.\"\n",
    "    \"Do not generate questions , just answer the provided question\"\n",
    "    \"Try to give accurate answers\"\n",
    "   \"{context}\" \n",
    ")\n",
    "\n",
    "prompt = ChatPromptTemplate.from_messages(\n",
    "    [\n",
    "    (\"system\",system_prompt),\n",
    "    (\"human\",\"{input}\")\n",
    "\n",
    "    ]\n",
    ")"
   ]
  },
  {
   "cell_type": "code",
   "execution_count": 23,
   "metadata": {},
   "outputs": [],
   "source": [
    "QAChain= create_stuff_documents_chain(llm, prompt)\n",
    "rag_chain = create_retrieval_chain(retriever,QAChain)"
   ]
  },
  {
   "cell_type": "code",
   "execution_count": null,
   "metadata": {},
   "outputs": [],
   "source": [
    "response=rag_chain.invoke({\"input\":\"What is vitamins?\"})\n",
    "print(response[\"answer\"])"
   ]
  },
  {
   "cell_type": "code",
   "execution_count": 28,
   "metadata": {},
   "outputs": [
    {
     "name": "stdout",
     "output_type": "stream",
     "text": [
      "Based on the information provided in the passage, the recommended daily dose of vitamin C for a healthy adult is 400-500 mg per day. However, if a person is experiencing constipation, the passage suggests that an increase in dosage to 1,000 mg per day may be helpful in preventing or relieving symptoms. Additionally, the passage mentions that elective surgery is discouraged due to the high possibility of complications, and alternative treatment options such as constitutional homeopathic treatment may be helpful in maintaining optimal health in persons with a diagnosis of EDS (Ehlers-Danlos syndrome).\n"
     ]
    }
   ],
   "source": [
    "response=rag_chain.invoke({\"input\":\"How much vitamin c is required for a person per day\"})\n",
    "print(response[\"answer\"])"
   ]
  },
  {
   "cell_type": "code",
   "execution_count": 51,
   "metadata": {},
   "outputs": [],
   "source": [
    "def data_load_pdf(file):\n",
    "    with tempfile.TemporaryDirectory() as temp_dir:\n",
    "        temp_file_path = f\"{temp_dir}/{file.name}\"\n",
    "        with open(temp_file_path, \"wb\") as temp_file:\n",
    "            temp_file.write(file.read())\n",
    "\n",
    "        loader = DirectoryLoader(temp_dir, glob=\"*.pdf\", loader_cls=PyPDFLoader)\n",
    "        data = loader.load()\n",
    "        return data\n"
   ]
  },
  {
   "cell_type": "code",
   "execution_count": 72,
   "metadata": {},
   "outputs": [
    {
     "ename": "SyntaxError",
     "evalue": "multiple exception types must be parenthesized (core.py, line 273)",
     "output_type": "error",
     "traceback": [
      "Traceback \u001b[1;36m(most recent call last)\u001b[0m:\n",
      "\u001b[0m  File \u001b[0;32mc:\\Users\\chhan\\anaconda3\\envs\\lang_env\\Lib\\site-packages\\IPython\\core\\interactiveshell.py:3577\u001b[0m in \u001b[0;35mrun_code\u001b[0m\n    exec(code_obj, self.user_global_ns, self.user_ns)\u001b[0m\n",
      "\u001b[0m  Cell \u001b[0;32mIn[72], line 1\u001b[0m\n    import chroma\u001b[0m\n",
      "\u001b[1;36m  File \u001b[1;32mc:\\Users\\chhan\\anaconda3\\envs\\lang_env\\Lib\\site-packages\\chroma\\__init__.py:9\u001b[1;36m\n\u001b[1;33m    from .core import *\u001b[1;36m\n",
      "\u001b[1;36m  File \u001b[1;32mc:\\Users\\chhan\\anaconda3\\envs\\lang_env\\Lib\\site-packages\\chroma\\core.py:273\u001b[1;36m\u001b[0m\n\u001b[1;33m    except Exception, e:\u001b[0m\n\u001b[1;37m           ^\u001b[0m\n\u001b[1;31mSyntaxError\u001b[0m\u001b[1;31m:\u001b[0m multiple exception types must be parenthesized\n"
     ]
    }
   ],
   "source": [
    "import chroma\n",
    "\n",
    "vector_store = chroma(\n",
    "    collection_name=\"example_collection\",\n",
    "    embedding_function=embeddings,\n",
    "    persist_directory=\"./chroma_langchain_db\",  # Where to save data locally, remove if not necessary\n",
    ")"
   ]
  },
  {
   "cell_type": "code",
   "execution_count": 76,
   "metadata": {},
   "outputs": [
    {
     "ename": "NameError",
     "evalue": "name 'medical_book' is not defined",
     "output_type": "error",
     "traceback": [
      "\u001b[1;31m---------------------------------------------------------------------------\u001b[0m",
      "\u001b[1;31mNameError\u001b[0m                                 Traceback (most recent call last)",
      "Cell \u001b[1;32mIn[76], line 10\u001b[0m\n\u001b[0;32m      7\u001b[0m         documents \u001b[38;5;241m=\u001b[39m [Document(page_content\u001b[38;5;241m=\u001b[39mtext)]\n\u001b[0;32m      8\u001b[0m     training(documents)\n\u001b[1;32m---> 10\u001b[0m data_load_pdf(\u001b[43mmedical_book\u001b[49m\u001b[38;5;241m.\u001b[39mpdf)\n",
      "\u001b[1;31mNameError\u001b[0m: name 'medical_book' is not defined"
     ]
    }
   ],
   "source": [
    "def data_load_pdf(file):\n",
    "    if file is not None:\n",
    "        text=\"\"\n",
    "        pdf_reader = PyPDF2.PdfReader(file)\n",
    "        for page in pdf_reader.pages:\n",
    "            text += page.extract_text()\n",
    "        documents = [Document(page_content=text)]\n",
    "    training(documents)\n",
    "\n",
    "data_load_pdf(medical_book.pdf)"
   ]
  },
  {
   "cell_type": "code",
   "execution_count": 73,
   "metadata": {},
   "outputs": [],
   "source": [
    "import PyPDF2"
   ]
  },
  {
   "cell_type": "code",
   "execution_count": null,
   "metadata": {},
   "outputs": [],
   "source": []
  }
 ],
 "metadata": {
  "kernelspec": {
   "display_name": "lang_env",
   "language": "python",
   "name": "python3"
  },
  "language_info": {
   "codemirror_mode": {
    "name": "ipython",
    "version": 3
   },
   "file_extension": ".py",
   "mimetype": "text/x-python",
   "name": "python",
   "nbconvert_exporter": "python",
   "pygments_lexer": "ipython3",
   "version": "3.12.3"
  }
 },
 "nbformat": 4,
 "nbformat_minor": 2
}
